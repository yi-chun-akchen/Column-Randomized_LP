{
 "cells": [
  {
   "cell_type": "markdown",
   "metadata": {},
   "source": [
    "# Section F.4 (Experiment 5): Exploration of optimal and near-optimal solutions for a small instance"
   ]
  },
  {
   "cell_type": "code",
   "execution_count": null,
   "metadata": {
    "scrolled": true
   },
   "outputs": [],
   "source": [
    "from gurobipy import *\n",
    "import numpy as np"
   ]
  },
  {
   "cell_type": "markdown",
   "metadata": {},
   "source": [
    "We consider the problem setup in Section F.4."
   ]
  },
  {
   "cell_type": "code",
   "execution_count": null,
   "metadata": {},
   "outputs": [],
   "source": [
    "W = 200\n",
    "w = [3,5,7,10,17,22,30,50]\n",
    "nDemands = 8\n",
    "d = [1200,1000,1000,400,500,400,600,200]"
   ]
  },
  {
   "cell_type": "markdown",
   "metadata": {},
   "source": [
    "The following cell solves the subproblem in the column generation approach to the cutting stock problem."
   ]
  },
  {
   "cell_type": "code",
   "execution_count": null,
   "metadata": {},
   "outputs": [],
   "source": [
    "m_sub = Model()\n",
    "a = m_sub.addVars(nDemands, vtype = GRB.INTEGER)\n",
    "\n",
    "def separation(p_val):\n",
    "    m_sub.addConstr( sum(w[i] * a[i] for i in range(nDemands)) <= W)\n",
    "    m_sub.setObjective( sum(p_val[i] * a[i] for i in range(nDemands)), GRB.MAXIMIZE)\n",
    "    m_sub.update()\n",
    "    m_sub.optimize()\n",
    "    \n",
    "    a_val = [a[i].x for i in range(nDemands)]\n",
    "    sub_obj = m_sub.objval\n",
    "    \n",
    "    return sub_obj, a_val"
   ]
  },
  {
   "cell_type": "markdown",
   "metadata": {},
   "source": [
    "We can now create our constraint generation algorithm."
   ]
  },
  {
   "cell_type": "code",
   "execution_count": null,
   "metadata": {},
   "outputs": [],
   "source": [
    "# Reformulate the dual problem. \n",
    "m_dual = Model()\n",
    "\n",
    "m_dual.Params.OutputFlag = 0\n",
    "\n",
    "p = m_dual.addVars(nDemands)\n",
    "\n",
    "m_dual.setObjective(sum(d[i] * p[i] for i in range(nDemands)), GRB.MAXIMIZE)\n",
    "\n",
    "# Let us initialize the set of patterns with just those that consist only of a single demand type.\n",
    "# We can enumerate that set as follows:\n",
    "\n",
    "patterns = [ [1 for i in range(nDemands)] ]\n",
    "print(patterns)\n",
    "\n",
    "nPatterns = len(patterns)\n",
    "\n",
    "for j in range(nPatterns):\n",
    "    m_dual.addConstr( sum( patterns[j][i] * p[i] for i in range(nDemands)) <= 1)\n",
    "    \n",
    "m_dual.update()\n",
    "m_dual.optimize()\n",
    "\n",
    "\n",
    "\n",
    "dual_obj = m_dual.objval\n",
    "\n",
    "CG_iter = 0\n",
    "\n",
    "print(\"Iteration \", CG_iter, \": \", dual_obj)\n",
    "\n",
    "\n",
    "p_val = [p[i].x for i in range(nDemands)]\n",
    "\n",
    "sub_objval, a_val = separation(p_val)\n",
    "\n",
    "tol_eps = 1e-5\n",
    "\n",
    "isOptimal = sub_objval <= 1 + tol_eps\n",
    "\n",
    "while (not isOptimal):\n",
    "    # Add a_val to patterns, and add the constraint to the dual.\n",
    "    patterns.append(a_val)\n",
    "    m_dual.addConstr( sum( a_val[i] * p[i] for i in range(nDemands)) <= 1)\n",
    "    \n",
    "    # Update the problem and solve it again.\n",
    "    m_dual.update()\n",
    "    m_dual.optimize()\n",
    "    dual_obj = m_dual.objval\n",
    "    p_val = [p[i].x for i in range(nDemands)]\n",
    "    \n",
    "    CG_iter += 1 \n",
    "    print()\n",
    "    print(\"Iteration \", CG_iter, \": \", dual_obj)\n",
    "    \n",
    "    # Solve separation problem, and update the isOptimal flag.\n",
    "    sub_objval, a_val = separation(p_val)\n",
    "    isOptimal = sub_objval <= 1 + tol_eps\n",
    "    print(\"sub_objval = \", sub_objval)\n",
    "    print(\"constraint violation = \", 1 - sub_objval),\n",
    "    print(\"a_val = \", a_val)\n",
    "    print(\"isOptimal = \", isOptimal)\n",
    "    "
   ]
  },
  {
   "cell_type": "markdown",
   "metadata": {},
   "source": [
    "To figure out the solution to the original problem, we formulate the primal and solve again."
   ]
  },
  {
   "cell_type": "code",
   "execution_count": null,
   "metadata": {},
   "outputs": [],
   "source": [
    "nPatterns = len(patterns)\n",
    "\n",
    "m = Model()\n",
    "x = m.addVars(nPatterns)\n",
    "\n",
    "for i in range(nDemands):\n",
    "    m.addConstr( sum( patterns[j][i] * x[j] for j in range(nPatterns) ) >= d[i])\n",
    "    \n",
    "m.setObjective( sum(x[j] for j in range(nPatterns)), GRB.MINIMIZE)\n",
    "\n",
    "m.update()\n",
    "\n",
    "m.optimize()\n",
    "\n",
    "x_vals = [ x[j].x for j in range(nPatterns)]\n",
    "\n",
    "print(\"Optimal solution: \", x_vals)\n",
    "\n",
    "nonzero_pattern_indices = [j for j in range(nPatterns) if x_vals[j] > 0]\n",
    "\n",
    "for j in nonzero_pattern_indices:\n",
    "    print(\"Pattern \", j, \": \", patterns[j], \" -- cut \", x_vals[j], \" rolls\")\n",
    "    "
   ]
  },
  {
   "cell_type": "markdown",
   "metadata": {},
   "source": [
    "Now we have found the eight columns described in Section F.4"
   ]
  },
  {
   "cell_type": "markdown",
   "metadata": {},
   "source": [
    "The following function samples a column."
   ]
  },
  {
   "cell_type": "code",
   "execution_count": null,
   "metadata": {},
   "outputs": [],
   "source": [
    "from random import sample\n",
    "\n",
    "min_w = min(w)\n",
    "\n",
    "def random_a():\n",
    "    a_val = np.zeros(nDemands)\n",
    "    remaining_width = W\n",
    "    valid_widths = [i for i in range(nDemands) if w[i] <= remaining_width]\n",
    "    while (len(valid_widths) > 0):\n",
    "        i_random = np.random.choice(valid_widths, 1)\n",
    "        i_random = i_random[0]\n",
    "        a_val[i_random] += 1\n",
    "        remaining_width -= w[i_random]\n",
    "        valid_widths = [i for i in range(nDemands) if w[i] <= remaining_width]\n",
    "        \n",
    "    return a_val"
   ]
  },
  {
   "cell_type": "markdown",
   "metadata": {},
   "source": [
    "We run the column randomization method 20000 times and investigate the returned optimal solutions and nearly-optimal solutions."
   ]
  },
  {
   "cell_type": "code",
   "execution_count": null,
   "metadata": {
    "scrolled": true
   },
   "outputs": [],
   "source": [
    "nSimulations = 20000\n",
    "pattern_sets = []\n",
    "obj_vec = np.zeros(nSimulations)\n",
    "eps = np.finfo(float).eps\n",
    "\n",
    "# save information about the optimal basis from the sampled patterns\n",
    "nOpt = 0\n",
    "Opt_pattern_sets = []\n",
    "\n",
    "# save information about the nearly-optimal basis from the sampled patterns\n",
    "nNearOpt = 0\n",
    "NearOpt_pattern_sets = []\n",
    "\n",
    "for s in range(nSimulations):\n",
    "    # Sample 100 random patterns:\n",
    "    nPatterns = 100\n",
    "    patterns = []\n",
    "    for j in range(nPatterns):\n",
    "        patterns.append( random_a() )\n",
    "\n",
    "    # Solve the primal problem to see which patterns are involved:\n",
    "    m = Model()\n",
    "    x = m.addVars(nPatterns)\n",
    "\n",
    "    m.Params.OutputFlag = 0\n",
    "    m.Params.Method = 0\n",
    "\n",
    "    for i in range(nDemands):\n",
    "        m.addConstr( sum( patterns[j][i] * x[j] for j in range(nPatterns) ) >= d[i])\n",
    "    m.setObjective( sum(x[j] for j in range(nPatterns)), GRB.MINIMIZE)\n",
    "\n",
    "    m.update()\n",
    "    m.optimize()\n",
    "\n",
    "    x_vals = [ x[j].x for j in range(nPatterns)]\n",
    "    nonzero_pattern_indices = [j for j in range(nPatterns) if x[j].vbasis == 0]\n",
    "    \n",
    "    #print(\"Objective value: \", m.objval)\n",
    "    #for j in nonzero_pattern_indices:\n",
    "    #    print(\"Pattern \", j, \": \", patterns[j], \" -- cut \", x_vals[j], \" rolls\")\n",
    "    \n",
    "    used_patterns = [patterns[j] for j in nonzero_pattern_indices]\n",
    "    \n",
    "    pattern_sets.append(used_patterns)\n",
    "    obj_vec[s] = m.objval\n",
    "\n",
    "    # optimal solutions\n",
    "    if m.objval <= 324.5 + eps:\n",
    "        nOpt += 1\n",
    "        Opt_pattern_sets.append(used_patterns)\n",
    "    \n",
    "    # nearly optimal solutions\n",
    "    if m.objval <= 324.5 + 2.0:\n",
    "        nNearOpt += 1\n",
    "        NearOpt_pattern_sets.append(used_patterns)\n"
   ]
  },
  {
   "cell_type": "code",
   "execution_count": null,
   "metadata": {},
   "outputs": [],
   "source": [
    "# Number of times that the column randomization method gives the optimal solution:\n",
    "print(\"Number of optimal basis = \",nOpt)\n",
    "# Number of unique patterns (columns) in the collection of all sampled optimal basis:\n",
    "uniq_pattern = [Opt_pattern_sets[i][j] for i in range(nOpt) for j in range(len(Opt_pattern_sets[i]))]\n",
    "uniq_pattern_tuple = set([tuple(i) for i in uniq_pattern])\n",
    "print(\"Number of unqiue patterns among the sampled optimal basis = \",len(uniq_pattern_tuple))\n",
    "# Counting the incidence of each pattern:\n",
    "uniq_pattern2 = list(uniq_pattern_tuple)\n",
    "incidence = np.zeros(len(uniq_pattern2))\n",
    "\n",
    "for t in range(len(uniq_pattern2)):\n",
    "    incidence[t] = sum( [ tuple(i) == uniq_pattern2[t] for i in uniq_pattern ])\n",
    "\n",
    "print(\"Maximum Incidence = \",incidence.max())\n",
    "print(\"Average Incidence = \",incidence.mean())"
   ]
  },
  {
   "cell_type": "code",
   "execution_count": null,
   "metadata": {},
   "outputs": [],
   "source": [
    "# Number of times that the column randomization method gives the nearly-optimal solution:\n",
    "print(\"Number of nearly-optimal basis = \",nNearOpt)\n",
    "# Number of unique patterns (columns) in the collection of all sampled nearly-optimal basis:\n",
    "uniq_pattern_nearopt = [NearOpt_pattern_sets[i][j] for i in range(nNearOpt) for j in range(len(NearOpt_pattern_sets[i]))]\n",
    "uniq_pattern_tuple_nearopt = set([tuple(i) for i in uniq_pattern_nearopt])\n",
    "print(\"Number of unqiue patterns among the sampled nearly-optimal basis = \",len(uniq_pattern_tuple_nearopt))\n",
    "# Counting the incidence of each pattern:\n",
    "uniq_pattern2_nearopt = list(uniq_pattern_tuple_nearopt)\n",
    "incidence_nearopt = np.zeros(len(uniq_pattern2_nearopt))\n",
    "\n",
    "for t in range(len(uniq_pattern2_nearopt)):\n",
    "    incidence_nearopt[t] = sum( [ tuple(i) == uniq_pattern2_nearopt[t] for i in uniq_pattern_nearopt])\n",
    "\n",
    "print(\"Maximum Incidence = \",incidence_nearopt.max())\n",
    "print(\"Average Incidence = \",incidence_nearopt.mean())"
   ]
  },
  {
   "cell_type": "code",
   "execution_count": null,
   "metadata": {},
   "outputs": [],
   "source": []
  }
 ],
 "metadata": {
  "kernelspec": {
   "display_name": "Python 3 (ipykernel)",
   "language": "python",
   "name": "python3"
  },
  "language_info": {
   "codemirror_mode": {
    "name": "ipython",
    "version": 3
   },
   "file_extension": ".py",
   "mimetype": "text/x-python",
   "name": "python",
   "nbconvert_exporter": "python",
   "pygments_lexer": "ipython3",
   "version": "3.11.6"
  }
 },
 "nbformat": 4,
 "nbformat_minor": 4
}
